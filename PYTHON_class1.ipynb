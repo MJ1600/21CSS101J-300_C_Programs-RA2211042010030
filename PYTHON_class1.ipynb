{
  "nbformat": 4,
  "nbformat_minor": 0,
  "metadata": {
    "colab": {
      "provenance": [],
      "authorship_tag": "ABX9TyOSYNkH73S3aszdFlSo2xAB",
      "include_colab_link": true
    },
    "kernelspec": {
      "name": "python3",
      "display_name": "Python 3"
    },
    "language_info": {
      "name": "python"
    }
  },
  "cells": [
    {
      "cell_type": "markdown",
      "metadata": {
        "id": "view-in-github",
        "colab_type": "text"
      },
      "source": [
        "<a href=\"https://colab.research.google.com/github/MJ1600/21CSS101J-300_C_Programs-RA2211042010030/blob/main/PYTHON_class1.ipynb\" target=\"_parent\"><img src=\"https://colab.research.google.com/assets/colab-badge.svg\" alt=\"Open In Colab\"/></a>"
      ]
    },
    {
      "cell_type": "code",
      "execution_count": 1,
      "metadata": {
        "colab": {
          "base_uri": "https://localhost:8080/"
        },
        "id": "-DIpl-5FFOMu",
        "outputId": "537dfe08-d1a0-4b1e-fea1-14cc2a4c046c"
      },
      "outputs": [
        {
          "output_type": "stream",
          "name": "stdout",
          "text": [
            "WE AREEE THEE CHAMPIONSSSSS\n"
          ]
        }
      ],
      "source": [
        "print(\"WE AREEE THEE CHAMPIONSSSSS\")"
      ]
    },
    {
      "cell_type": "code",
      "source": [
        "7 + 89\n"
      ],
      "metadata": {
        "colab": {
          "base_uri": "https://localhost:8080/"
        },
        "id": "pcXqd68mHST2",
        "outputId": "654ee7a2-e00e-4de9-ba23-ac8e2caf6346"
      },
      "execution_count": 3,
      "outputs": [
        {
          "output_type": "execute_result",
          "data": {
            "text/plain": [
              "96"
            ]
          },
          "metadata": {},
          "execution_count": 3
        }
      ]
    },
    {
      "cell_type": "code",
      "source": [],
      "metadata": {
        "id": "2U5BfKmZIKMO"
      },
      "execution_count": null,
      "outputs": []
    }
  ]
}